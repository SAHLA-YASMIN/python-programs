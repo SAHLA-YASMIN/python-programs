{
 "cells": [
  {
   "cell_type": "code",
   "execution_count": 1,
   "id": "4b2867cc-3cc4-429a-a92b-4aee46433f90",
   "metadata": {},
   "outputs": [
    {
     "name": "stdout",
     "output_type": "stream",
     "text": [
      "Exercise 1:\n",
      "[[ 1  2  3  4  5]\n",
      " [ 6  7  8  9 10]]\n"
     ]
    }
   ],
   "source": [
    "import numpy as np\n",
    "import pandas as pd\n",
    "\n",
    "# Exercise 1\n",
    "arr1 = np.arange(1, 11).reshape(2, 5)\n",
    "print(\"Exercise 1:\")\n",
    "print(arr1)"
   ]
  },
  {
   "cell_type": "code",
   "execution_count": null,
   "id": "bd6c867a-51bd-4aeb-a008-701c1939aeaf",
   "metadata": {},
   "outputs": [],
   "source": []
  },
  {
   "cell_type": "code",
   "execution_count": 2,
   "id": "c7c9201b-48f0-4a51-8c24-b2b52234a8a0",
   "metadata": {},
   "outputs": [
    {
     "name": "stdout",
     "output_type": "stream",
     "text": [
      "\n",
      "Exercise 2:\n",
      "[ 6  7  8  9 10 11 12 13 14 15 16]\n"
     ]
    }
   ],
   "source": [
    "# Exercise 2\n",
    "arr2 = np.arange(1, 21)\n",
    "extracted_elements = arr2[5:16]\n",
    "print(\"\\nExercise 2:\")\n",
    "print(extracted_elements)\n"
   ]
  },
  {
   "cell_type": "code",
   "execution_count": 3,
   "id": "16930d26-4baf-4875-8b82-50b30bfa9d66",
   "metadata": {},
   "outputs": [
    {
     "name": "stdout",
     "output_type": "stream",
     "text": [
      "\n",
      "Exercise 3:\n",
      "apples     3\n",
      "bananas    2\n",
      "oranges    1\n",
      "pears      4\n",
      "dtype: int64\n"
     ]
    }
   ],
   "source": [
    "# Exercise 3\n",
    "series = pd.Series({'apples': 3, 'bananas': 2, 'oranges': 1})\n",
    "series['pears'] = 4\n",
    "print(\"\\nExercise 3:\")\n",
    "print(series)\n"
   ]
  },
  {
   "cell_type": "code",
   "execution_count": 4,
   "id": "8d376178-77fa-4835-93d0-63eec6828bce",
   "metadata": {},
   "outputs": [
    {
     "name": "stdout",
     "output_type": "stream",
     "text": [
      "\n",
      "Exercise 4:\n",
      "      name  age gender\n",
      "0    Alice   25      F\n",
      "1      Bob   30      M\n",
      "2  Charlie   35      M\n",
      "3    David   40      M\n",
      "4      Eve   22      F\n",
      "5    Frank   28      M\n",
      "6    Grace   33      F\n",
      "7     Hank   45      M\n",
      "8      Ivy   27      F\n",
      "9     Jack   50      M\n"
     ]
    }
   ],
   "source": [
    "# Exercise 4\n",
    "data = {\n",
    "    'name': ['Alice', 'Bob', 'Charlie', 'David', 'Eve', 'Frank', 'Grace', 'Hank', 'Ivy', 'Jack'],\n",
    "    'age': [25, 30, 35, 40, 22, 28, 33, 45, 27, 50],\n",
    "    'gender': ['F', 'M', 'M', 'M', 'F', 'M', 'F', 'M', 'F', 'M']\n",
    "}\n",
    "df = pd.DataFrame(data)\n",
    "print(\"\\nExercise 4:\")\n",
    "print(df)\n"
   ]
  },
  {
   "cell_type": "code",
   "execution_count": 5,
   "id": "f233cb50-d0b3-4603-be13-0ce6835f634b",
   "metadata": {},
   "outputs": [
    {
     "name": "stdout",
     "output_type": "stream",
     "text": [
      "\n",
      "Exercise 5:\n",
      "      name  age gender  occupation\n",
      "0    Alice   25      F  Programmer\n",
      "1      Bob   30      M     Manager\n",
      "2  Charlie   35      M     Analyst\n",
      "3    David   40      M  Programmer\n",
      "4      Eve   22      F     Manager\n",
      "5    Frank   28      M     Analyst\n",
      "6    Grace   33      F  Programmer\n",
      "7     Hank   45      M     Manager\n",
      "8      Ivy   27      F     Analyst\n",
      "9     Jack   50      M  Programmer\n"
     ]
    }
   ],
   "source": [
    "# Exercise 5\n",
    "df['occupation'] = ['Programmer', 'Manager', 'Analyst', 'Programmer', 'Manager', 'Analyst', 'Programmer', 'Manager', 'Analyst', 'Programmer']\n",
    "print(\"\\nExercise 5:\")\n",
    "print(df)\n"
   ]
  },
  {
   "cell_type": "code",
   "execution_count": 6,
   "id": "9a400efe-117f-44c1-bd0e-a8f9124d4660",
   "metadata": {},
   "outputs": [
    {
     "name": "stdout",
     "output_type": "stream",
     "text": [
      "\n",
      "Exercise 6:\n",
      "      name  age gender  occupation\n",
      "1      Bob   30      M     Manager\n",
      "2  Charlie   35      M     Analyst\n",
      "3    David   40      M  Programmer\n",
      "6    Grace   33      F  Programmer\n",
      "7     Hank   45      M     Manager\n",
      "9     Jack   50      M  Programmer\n"
     ]
    }
   ],
   "source": [
    "# Exercise 6\n",
    "filtered_df = df[df['age'] >= 30]\n",
    "print(\"\\nExercise 6:\")\n",
    "print(filtered_df)\n"
   ]
  },
  {
   "cell_type": "code",
   "execution_count": 7,
   "id": "262ef7dd-37e3-4d90-a157-c3970e12ce31",
   "metadata": {},
   "outputs": [
    {
     "name": "stdout",
     "output_type": "stream",
     "text": [
      "\n",
      "Exercise 7:\n",
      "      name  age gender  occupation\n",
      "0    Alice   25      F  Programmer\n",
      "1      Bob   30      M     Manager\n",
      "2  Charlie   35      M     Analyst\n",
      "3    David   40      M  Programmer\n",
      "4      Eve   22      F     Manager\n",
      "5    Frank   28      M     Analyst\n",
      "6    Grace   33      F  Programmer\n",
      "7     Hank   45      M     Manager\n",
      "8      Ivy   27      F     Analyst\n",
      "9     Jack   50      M  Programmer\n"
     ]
    }
   ],
   "source": [
    "# Exercise 7\n",
    "csv_filename = \"dataframe.csv\"\n",
    "df.to_csv(csv_filename, index=False)\n",
    "df_read = pd.read_csv(csv_filename)\n",
    "print(\"\\nExercise 7:\")\n",
    "print(df_read)\n"
   ]
  },
  {
   "cell_type": "code",
   "execution_count": null,
   "id": "ea8aedbd-4857-4e62-a349-6eecbf0145af",
   "metadata": {},
   "outputs": [],
   "source": []
  }
 ],
 "metadata": {
  "kernelspec": {
   "display_name": "Python 3 (ipykernel)",
   "language": "python",
   "name": "python3"
  },
  "language_info": {
   "codemirror_mode": {
    "name": "ipython",
    "version": 3
   },
   "file_extension": ".py",
   "mimetype": "text/x-python",
   "name": "python",
   "nbconvert_exporter": "python",
   "pygments_lexer": "ipython3",
   "version": "3.12.7"
  }
 },
 "nbformat": 4,
 "nbformat_minor": 5
}
