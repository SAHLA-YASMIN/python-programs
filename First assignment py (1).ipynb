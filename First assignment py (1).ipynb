{
 "cells": [
  {
   "cell_type": "code",
   "execution_count": 1,
   "id": "38105da5-ca4a-4ef6-8590-85cb5546ccd2",
   "metadata": {},
   "outputs": [
    {
     "name": "stdout",
     "output_type": "stream",
     "text": [
      "Original List: [5, 12, 8, 20, 3]\n"
     ]
    }
   ],
   "source": [
    "numbers = [5, 12, 8, 20, 3]\n",
    "print(\"Original List:\", numbers)"
   ]
  },
  {
   "cell_type": "code",
   "execution_count": 2,
   "id": "c84fee6b-3503-487f-8664-5a6aba738cb5",
   "metadata": {},
   "outputs": [
    {
     "name": "stdout",
     "output_type": "stream",
     "text": [
      "Updated List: [5, 12, 8, 20, 3, 15, 7, 9]\n"
     ]
    }
   ],
   "source": [
    "numbers.extend([15, 7, 9])\n",
    "print(\"Updated List:\", numbers)\n"
   ]
  },
  {
   "cell_type": "code",
   "execution_count": 3,
   "id": "2593cfad-b095-454b-afa4-a5ec2b4b0c4d",
   "metadata": {},
   "outputs": [
    {
     "name": "stdout",
     "output_type": "stream",
     "text": [
      "List Elements:\n",
      "5\n",
      "12\n",
      "8\n",
      "20\n",
      "3\n",
      "15\n",
      "7\n",
      "9\n"
     ]
    }
   ],
   "source": [
    "print(\"List Elements:\")\n",
    "for num in numbers:\n",
    "    print(num)"
   ]
  },
  {
   "cell_type": "code",
   "execution_count": 4,
   "id": "762d1084-cb5d-4929-91cd-df207d0a5c93",
   "metadata": {},
   "outputs": [
    {
     "name": "stdout",
     "output_type": "stream",
     "text": [
      "Original Dictionary: {'name': 'John', 'age': 25, 'address': 'New York'}\n"
     ]
    }
   ],
   "source": [
    "person = {'name': 'John', 'age': 25, 'address': 'New York'}\n",
    "print(\"Original Dictionary:\", person)\n"
   ]
  },
  {
   "cell_type": "code",
   "execution_count": 5,
   "id": "4bbb226f-afb6-4f0e-a2ce-7459c6907520",
   "metadata": {},
   "outputs": [
    {
     "name": "stdout",
     "output_type": "stream",
     "text": [
      "Updated Dictionary: {'name': 'John', 'age': 25, 'address': 'New York', 'phone': '1234567890'}\n"
     ]
    }
   ],
   "source": [
    "person['phone'] = '1234567890'\n",
    "print(\"Updated Dictionary:\", person)\n"
   ]
  },
  {
   "cell_type": "code",
   "execution_count": 6,
   "id": "80672f87-f323-4a38-b47b-6e6797464f10",
   "metadata": {},
   "outputs": [
    {
     "name": "stdout",
     "output_type": "stream",
     "text": [
      "Original Set: {1, 2, 3, 4, 5}\n"
     ]
    }
   ],
   "source": [
    "num_set = {1, 2, 3, 4, 5}\n",
    "print(\"Original Set:\", num_set)\n"
   ]
  },
  {
   "cell_type": "code",
   "execution_count": 7,
   "id": "556ea59c-1c29-4dea-ae89-a9ab8740f304",
   "metadata": {},
   "outputs": [
    {
     "name": "stdout",
     "output_type": "stream",
     "text": [
      "Updated Set: {1, 2, 3, 4, 5, 6}\n"
     ]
    }
   ],
   "source": [
    "num_set.add(6)\n",
    "print(\"Updated Set:\", num_set)"
   ]
  },
  {
   "cell_type": "code",
   "execution_count": 8,
   "id": "aabe04d2-e001-4f58-8be0-04004e36149a",
   "metadata": {},
   "outputs": [
    {
     "name": "stdout",
     "output_type": "stream",
     "text": [
      "Set after removal: {1, 2, 4, 5, 6}\n"
     ]
    }
   ],
   "source": [
    "num_set.remove(3)\n",
    "print(\"Set after removal:\", num_set)"
   ]
  },
  {
   "cell_type": "code",
   "execution_count": 9,
   "id": "05888f5c-755b-414b-a0a1-8f73c2399941",
   "metadata": {},
   "outputs": [
    {
     "name": "stdout",
     "output_type": "stream",
     "text": [
      "Tuple: (1, 2, 3, 4)\n"
     ]
    }
   ],
   "source": [
    "numbers_tuple = (1, 2, 3, 4)\n",
    "print(\"Tuple:\", numbers_tuple)\n"
   ]
  },
  {
   "cell_type": "code",
   "execution_count": 10,
   "id": "aa26d907-2ceb-4008-aa65-13829cce15ea",
   "metadata": {},
   "outputs": [
    {
     "name": "stdout",
     "output_type": "stream",
     "text": [
      "Length of Tuple: 4\n"
     ]
    }
   ],
   "source": [
    "print(\"Length of Tuple:\", len(numbers_tuple))"
   ]
  },
  {
   "cell_type": "code",
   "execution_count": 14,
   "id": "7c6c594a-c100-4ca0-bda4-dc9d4892390c",
   "metadata": {},
   "outputs": [
    {
     "name": "stdout",
     "output_type": "stream",
     "text": [
      "Original List: [67, 31, 77, 77, 68]\n"
     ]
    }
   ],
   "source": [
    "import random\n",
    "numbers = [random.randint(1, 100) for _ in range(5)]\n",
    "print(\"Original List:\", numbers)\n"
   ]
  },
  {
   "cell_type": "code",
   "execution_count": 15,
   "id": "81c5a435-1343-44a2-ac94-b1158f670658",
   "metadata": {},
   "outputs": [
    {
     "name": "stdout",
     "output_type": "stream",
     "text": [
      "Updated List: [67, 31, 77, 77, 68, 27, 18, 26]\n"
     ]
    }
   ],
   "source": [
    "numbers.extend([random.randint(1, 100) for _ in range(3)])\n",
    "print(\"Updated List:\", numbers)"
   ]
  },
  {
   "cell_type": "code",
   "execution_count": 16,
   "id": "b576ae5c-a752-46f1-a62c-ff27be5fef82",
   "metadata": {},
   "outputs": [
    {
     "name": "stdout",
     "output_type": "stream",
     "text": [
      "List Elements:\n",
      "67\n",
      "31\n",
      "77\n",
      "77\n",
      "68\n",
      "27\n",
      "18\n",
      "26\n"
     ]
    }
   ],
   "source": [
    "print(\"List Elements:\")\n",
    "for num in numbers:\n",
    "    print(num)\n"
   ]
  },
  {
   "cell_type": "code",
   "execution_count": 17,
   "id": "40f36e28-af7c-4b44-9fe5-ffd26710f23c",
   "metadata": {},
   "outputs": [
    {
     "name": "stdout",
     "output_type": "stream",
     "text": [
      "Original Dictionary: {'name': 'John', 'age': 25, 'address': 'New York'}\n"
     ]
    }
   ],
   "source": [
    "person = {'name': 'John', 'age': 25, 'address': 'New York'}\n",
    "print(\"Original Dictionary:\", person)"
   ]
  },
  {
   "cell_type": "code",
   "execution_count": 18,
   "id": "7653f053-794f-4335-b55a-8e71c2a2ea6b",
   "metadata": {},
   "outputs": [],
   "source": [
    "# Dictionary Exercise\n",
    "# Q1"
   ]
  },
  {
   "cell_type": "code",
   "execution_count": 19,
   "id": "02fc15d9-6faa-4acd-a0bf-59ff44c10323",
   "metadata": {},
   "outputs": [
    {
     "name": "stdout",
     "output_type": "stream",
     "text": [
      "Original Dictionary: {'name': 'John', 'age': 25, 'address': 'New York'}\n"
     ]
    }
   ],
   "source": [
    "person = {'name': 'John', 'age': 25, 'address': 'New York'}\n",
    "print(\"Original Dictionary:\", person)\n"
   ]
  },
  {
   "cell_type": "code",
   "execution_count": 20,
   "id": "94706660-8d6c-4b3d-a81c-cf1104d7815b",
   "metadata": {},
   "outputs": [
    {
     "name": "stdout",
     "output_type": "stream",
     "text": [
      "Updated Dictionary: {'name': 'John', 'age': 25, 'address': 'New York', 'phone': '1234567890'}\n"
     ]
    }
   ],
   "source": [
    "person['phone'] = '1234567890'\n",
    "print(\"Updated Dictionary:\", person)\n"
   ]
  },
  {
   "cell_type": "code",
   "execution_count": 21,
   "id": "30dc6591-2d6b-4d3c-b21a-aaf0cbc78431",
   "metadata": {},
   "outputs": [
    {
     "name": "stdout",
     "output_type": "stream",
     "text": [
      "Original Set: {1, 2, 3, 4, 5}\n"
     ]
    }
   ],
   "source": [
    "# Set Exercise\n",
    "# Q1\n",
    "num_set = {1, 2, 3, 4, 5}\n",
    "print(\"Original Set:\", num_set)"
   ]
  },
  {
   "cell_type": "code",
   "execution_count": 22,
   "id": "c91400e7-99f9-4721-b564-f16d305bd648",
   "metadata": {},
   "outputs": [
    {
     "name": "stdout",
     "output_type": "stream",
     "text": [
      "Updated Set: {1, 2, 3, 4, 5, 6}\n"
     ]
    }
   ],
   "source": [
    "num_set.add(6)\n",
    "print(\"Updated Set:\", num_set)"
   ]
  },
  {
   "cell_type": "code",
   "execution_count": 23,
   "id": "e3f26d8c-149a-440a-ae66-82fa1eba2968",
   "metadata": {},
   "outputs": [
    {
     "name": "stdout",
     "output_type": "stream",
     "text": [
      "Tuple: (1, 2, 3, 4)\n",
      "Length of Tuple: 4\n"
     ]
    }
   ],
   "source": [
    "# Tuple Exercise\n",
    "# Q1\n",
    "numbers_tuple = (1, 2, 3, 4)\n",
    "print(\"Tuple:\", numbers_tuple)\n",
    "\n",
    "# Q2\n",
    "print(\"Length of Tuple:\", len(numbers_tuple))"
   ]
  },
  {
   "cell_type": "code",
   "execution_count": null,
   "id": "b3af2067-0f08-400b-b5e7-61017e4d19eb",
   "metadata": {},
   "outputs": [],
   "source": []
  }
 ],
 "metadata": {
  "kernelspec": {
   "display_name": "Python 3 (ipykernel)",
   "language": "python",
   "name": "python3"
  },
  "language_info": {
   "codemirror_mode": {
    "name": "ipython",
    "version": 3
   },
   "file_extension": ".py",
   "mimetype": "text/x-python",
   "name": "python",
   "nbconvert_exporter": "python",
   "pygments_lexer": "ipython3",
   "version": "3.12.7"
  }
 },
 "nbformat": 4,
 "nbformat_minor": 5
}
