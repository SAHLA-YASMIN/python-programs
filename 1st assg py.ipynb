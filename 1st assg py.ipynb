{
 "cells": [
  {
   "cell_type": "code",
   "execution_count": 1,
   "id": "6f261e13-79ee-4b74-8999-df4afe8dd9ea",
   "metadata": {},
   "outputs": [
    {
     "name": "stdout",
     "output_type": "stream",
     "text": [
      "BOB\n",
      "ST1001\n",
      "bob@gmail.com\n"
     ]
    }
   ],
   "source": [
    "# exercise 1 print name, student number, email\n",
    "print(\"BOB\")\n",
    "print(\"ST1001\")\n",
    "print(\"bob@gmail.com\")"
   ]
  },
  {
   "cell_type": "code",
   "execution_count": 2,
   "id": "4c631ab3-b125-4262-8c71-7bde6b2da30c",
   "metadata": {},
   "outputs": [
    {
     "name": "stdout",
     "output_type": "stream",
     "text": [
      "BOB\n",
      "ST1001\n",
      "bob@gmail.com\n"
     ]
    }
   ],
   "source": [
    "#excercise 2 print name, student name, email in escape sequence\n",
    "print(\"BOB\\nST1001\\nbob@gmail.com\")"
   ]
  },
  {
   "cell_type": "code",
   "execution_count": 3,
   "id": "0e015d53-62a4-4813-bb54-4ffe8833f8ec",
   "metadata": {},
   "outputs": [
    {
     "name": "stdout",
     "output_type": "stream",
     "text": [
      "14 + 7 = 21\n",
      "14 * 7 = 98\n",
      "14 - 7 = 7\n",
      "14 / 7 = 2.0\n"
     ]
    }
   ],
   "source": [
    "# Exercise 3: Perform basic arithmetic operations\n",
    "num1 = 14\n",
    "num2 = 7\n",
    "print(f\"{num1} + {num2} = {num1 + num2}\")\n",
    "print(f\"{num1} * {num2} = {num1 * num2}\")\n",
    "print(f\"{num1} - {num2} = {num1 - num2}\")\n",
    "print(f\"{num1} / {num2} = {num1 / num2}\")\n"
   ]
  },
  {
   "cell_type": "code",
   "execution_count": 4,
   "id": "7cdce9d4-6b04-4d7c-b5e5-f69d69b0b43d",
   "metadata": {},
   "outputs": [
    {
     "name": "stdout",
     "output_type": "stream",
     "text": [
      "1\n",
      "2\n",
      "3\n",
      "4\n",
      "5\n"
     ]
    }
   ],
   "source": [
    "# Exercise 4: Display numbers from 1 to 5 as steps\n",
    "for i in range(1, 6):\n",
    "    print(i)\n"
   ]
  },
  {
   "cell_type": "code",
   "execution_count": 5,
   "id": "9bd9fc1f-e150-4a45-9c0d-c7ff200050c8",
   "metadata": {},
   "outputs": [
    {
     "name": "stdout",
     "output_type": "stream",
     "text": [
      "\"SDK\" stands for \"Software Development Kit\", whereas\n",
      "\"IDE\" stands for \"Integrated Development Environment\".\n"
     ]
    }
   ],
   "source": [
    "# Exercise 5: Print sentence with quotation marks and line break\n",
    "print(\"\\\"SDK\\\" stands for \\\"Software Development Kit\\\", whereas\\n\\\"IDE\\\" stands for \\\"Integrated Development Environment\\\".\")\n"
   ]
  },
  {
   "cell_type": "code",
   "execution_count": 6,
   "id": "5a18b4d0-12e1-4fe9-b48b-a6c82b8c6095",
   "metadata": {},
   "outputs": [
    {
     "name": "stdout",
     "output_type": "stream",
     "text": [
      "python is an \"awesome\" language.\n",
      "python\n",
      "\t2023\n",
      "I'm from Entri\n",
      "5\n",
      "e\n",
      "Entri\n",
      "2023\n",
      "Entr2023\n",
      "Entri*20"
     ]
    }
   ],
   "source": [
    "# Exercise 6: Practice print statements\n",
    "print(\"python is an \\\"awesome\\\" language.\")\n",
    "print(\"python\\n\\t2023\")\n",
    "print('I\\'m from Entri.\\b')\n",
    "print(\"\\65\")  # Octal representation of 'A'\n",
    "print(\"\\x65\") # Hexadecimal representation of 'e'\n",
    "print(\"Entri\", \"2023\", sep=\"\\n\")\n",
    "print(\"Entri\", \"2023\", sep=\"\\b\")\n",
    "print(\"Entri\", \"2023\", sep=\"*\", end=\"\\b\\b\\b\\b\")\n"
   ]
  },
  {
   "cell_type": "code",
   "execution_count": 9,
   "id": "9e31b834-b75e-4230-bc5e-9b4ec973de1c",
   "metadata": {},
   "outputs": [
    {
     "name": "stdout",
     "output_type": "stream",
     "text": [
      "Type of num: <class 'int'>\n",
      "Type of textnum: <class 'str'>\n",
      "Type of decimal: <class 'float'>\n"
     ]
    }
   ],
   "source": [
    "# Exercise 7: Define variables, check types, and sum them\n",
    "num = 23\n",
    "textnum = \"57\"\n",
    "decimal = 98.3\n",
    "print(\"Type of num:\", type(num))\n",
    "print(\"Type of textnum:\", type(textnum))\n",
    "print(\"Type of decimal:\", type(decimal))\n"
   ]
  },
  {
   "cell_type": "code",
   "execution_count": 10,
   "id": "3f13469b-a4c1-4aa1-bb20-c8f23b4447b1",
   "metadata": {},
   "outputs": [
    {
     "name": "stdout",
     "output_type": "stream",
     "text": [
      "Sum: 178.3\n",
      "Type of sum: <class 'float'>\n"
     ]
    }
   ],
   "source": [
    "# Convert textnum to integer and sum the values\n",
    "total_sum = num + int(textnum) + decimal\n",
    "print(\"Sum:\", total_sum)\n",
    "print(\"Type of sum:\", type(total_sum))\n",
    "\n"
   ]
  },
  {
   "cell_type": "code",
   "execution_count": 12,
   "id": "02a72f05-c733-4d8d-aa3d-12889b07cb57",
   "metadata": {},
   "outputs": [
    {
     "name": "stdout",
     "output_type": "stream",
     "text": [
      "The total number of minutes in a year is: 525600\n"
     ]
    }
   ],
   "source": [
    "# Exercise 8: Calculate the number of minutes in a year\n",
    "days_in_year = 365\n",
    "hours_in_day = 24\n",
    "minutes_in_hour = 60\n",
    "total_minutes = days_in_year * hours_in_day * minutes_in_hour\n",
    "print(f\"The total number of minutes in a year is: {total_minutes}\")"
   ]
  },
  {
   "cell_type": "code",
   "execution_count": 13,
   "id": "b1ba3c68-ada6-4650-a06f-4a597f77686d",
   "metadata": {},
   "outputs": [
    {
     "name": "stdin",
     "output_type": "stream",
     "text": [
      "Please enter your name:  sahla\n"
     ]
    },
    {
     "name": "stdout",
     "output_type": "stream",
     "text": [
      "Hi sahla, welcome to Python programming :)\n"
     ]
    }
   ],
   "source": [
    "# Exercise 9: Ask for user input and print a greeting\n",
    "name = input(\"Please enter your name: \")\n",
    "print(f\"Hi {name}, welcome to Python programming :)\")\n"
   ]
  },
  {
   "cell_type": "code",
   "execution_count": 14,
   "id": "9555cdd1-a319-40da-91cb-ef10d4c52d79",
   "metadata": {},
   "outputs": [
    {
     "name": "stdin",
     "output_type": "stream",
     "text": [
      "Please enter amount in pounds:  sahla\n"
     ]
    },
    {
     "ename": "ValueError",
     "evalue": "could not convert string to float: 'sahla'",
     "output_type": "error",
     "traceback": [
      "\u001b[1;31m---------------------------------------------------------------------------\u001b[0m",
      "\u001b[1;31mValueError\u001b[0m                                Traceback (most recent call last)",
      "Cell \u001b[1;32mIn[14], line 2\u001b[0m\n\u001b[0;32m      1\u001b[0m \u001b[38;5;66;03m# Exercise 10: Convert pounds to dollars\u001b[39;00m\n\u001b[1;32m----> 2\u001b[0m pounds \u001b[38;5;241m=\u001b[39m \u001b[38;5;28mfloat\u001b[39m(\u001b[38;5;28minput\u001b[39m(\u001b[38;5;124m\"\u001b[39m\u001b[38;5;124mPlease enter amount in pounds: \u001b[39m\u001b[38;5;124m\"\u001b[39m))\n\u001b[0;32m      3\u001b[0m exchange_rate \u001b[38;5;241m=\u001b[39m \u001b[38;5;241m1.38\u001b[39m  \u001b[38;5;66;03m# Example rate, can be updated\u001b[39;00m\n\u001b[0;32m      4\u001b[0m dollars \u001b[38;5;241m=\u001b[39m pounds \u001b[38;5;241m*\u001b[39m exchange_rate\n",
      "\u001b[1;31mValueError\u001b[0m: could not convert string to float: 'sahla'"
     ]
    }
   ],
   "source": [
    "# Exercise 10: Convert pounds to dollars\n",
    "pounds = float(input(\"Please enter amount in pounds: \"))\n",
    "exchange_rate = 1.38  # Example rate, can be updated\n",
    "dollars = pounds * exchange_rate\n",
    "print(f\"£{pounds} are ${dollars:.2f}\")"
   ]
  },
  {
   "cell_type": "code",
   "execution_count": null,
   "id": "54d47641-9f45-44d1-8041-dd1f14df7233",
   "metadata": {},
   "outputs": [],
   "source": []
  }
 ],
 "metadata": {
  "kernelspec": {
   "display_name": "Python 3 (ipykernel)",
   "language": "python",
   "name": "python3"
  },
  "language_info": {
   "codemirror_mode": {
    "name": "ipython",
    "version": 3
   },
   "file_extension": ".py",
   "mimetype": "text/x-python",
   "name": "python",
   "nbconvert_exporter": "python",
   "pygments_lexer": "ipython3",
   "version": "3.12.7"
  }
 },
 "nbformat": 4,
 "nbformat_minor": 5
}
