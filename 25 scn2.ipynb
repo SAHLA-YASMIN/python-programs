{
 "cells": [
  {
   "cell_type": "code",
   "execution_count": 5,
   "id": "b4b19c68-5714-44fd-bbe8-514f9c0c195e",
   "metadata": {},
   "outputs": [],
   "source": [
    "# Exercise 1: Read a file and display its contents\n",
    "def read_file(filename):\n",
    "    try:\n",
    "        with open(filename, 'r') as file:\n",
    "            print(file.read())\n",
    "    except FileNotFoundError:\n",
    "        print(\"File not found.\")"
   ]
  },
  {
   "cell_type": "code",
   "execution_count": 6,
   "id": "750fdf46-1489-4110-abe2-e7637754f6d0",
   "metadata": {},
   "outputs": [],
   "source": [
    "# Exercise 2: Copy contents from one file to another\n",
    "def copy_file(source, destination):\n",
    "    try:\n",
    "        with open(source, 'r') as src, open(destination, 'w') as dest:\n",
    "            dest.write(src.read())\n",
    "        print(\"File copied successfully.\")\n",
    "    except FileNotFoundError:\n",
    "        print(\"Source file not found.\")\n"
   ]
  },
  {
   "cell_type": "code",
   "execution_count": 7,
   "id": "bf2dee25-522f-48fe-aa2b-2b041b8d73ec",
   "metadata": {},
   "outputs": [],
   "source": [
    "# Exercise 3: Count total number of words in a file\n",
    "def count_words(filename):\n",
    "    try:\n",
    "        with open(filename, 'r') as file:\n",
    "            content = file.read()\n",
    "            words = content.split()\n",
    "            print(f\"Total words: {len(words)}\")\n",
    "    except FileNotFoundError:\n",
    "        print(\"File not found.\")"
   ]
  },
  {
   "cell_type": "code",
   "execution_count": 8,
   "id": "9fe86f42-b7be-404e-b1e1-bf15b0528521",
   "metadata": {},
   "outputs": [],
   "source": [
    "# Exercise 4: Convert string to integer with exception handling\n",
    "def string_to_integer():\n",
    "    try:\n",
    "        num = int(input(\"Enter an integer: \"))\n",
    "        print(f\"Converted integer: {num}\")\n",
    "    except ValueError:\n",
    "        print(\"Invalid input! Please enter a valid integer.\")\n"
   ]
  },
  {
   "cell_type": "code",
   "execution_count": 10,
   "id": "e4599fa7-f419-49b9-8e1d-e38f6e73ae2e",
   "metadata": {},
   "outputs": [],
   "source": [
    "# Exercise 5: Raise exception for negative numbers in a list\n",
    "def check_negative_numbers():\n",
    "    try:\n",
    "        numbers = list(map(int, input(\"Enter a list of integers (space-separated): \").split()))\n",
    "        if any(n < 0 for n in numbers):\n",
    "            raise ValueError(\"Negative numbers are not allowed.\")\n",
    "        print(\"Valid list:\", numbers)\n",
    "    except ValueError as e:\n",
    "        print(e)\n"
   ]
  },
  {
   "cell_type": "code",
   "execution_count": 11,
   "id": "2dce6f5c-ed9f-436b-9efc-118f9b4a0d12",
   "metadata": {},
   "outputs": [],
   "source": [
    "# Exercise 6: Compute average with exception handling\n",
    "def compute_average():\n",
    "    try:\n",
    "        numbers = list(map(int, input(\"Enter a list of integers (space-separated): \").split()))\n",
    "        avg = sum(numbers) / len(numbers)\n",
    "        print(f\"Average: {avg}\")\n",
    "    except ZeroDivisionError:\n",
    "        print(\"Error: Cannot divide by zero (empty list).\")\n",
    "    except ValueError:\n",
    "        print(\"Error: Please enter only integers.\")\n",
    "    finally:\n",
    "        print(\"Program has finished running.\")"
   ]
  },
  {
   "cell_type": "code",
   "execution_count": null,
   "id": "9b294808-fa6d-4f8d-a741-60d41cc10a35",
   "metadata": {},
   "outputs": [],
   "source": [
    "# Exercise 7: Write a string to a file with exception handling\n",
    "def write_to_file():\n",
    "    try:\n",
    "        filename = input(\"Enter filename: \")\n",
    "        content = input(\"Enter content to write: \")\n",
    "        with open(filename, 'w') as file:\n",
    "            file.write(content)\n",
    "        print(\"Content written successfully.\")\n",
    "        print(\"Welcome!\")\n",
    "    except Exception as e:\n",
    "        print(f\"An error occurred: {e}\")\n"
   ]
  }
 ],
 "metadata": {
  "kernelspec": {
   "display_name": "Python 3 (ipykernel)",
   "language": "python",
   "name": "python3"
  },
  "language_info": {
   "codemirror_mode": {
    "name": "ipython",
    "version": 3
   },
   "file_extension": ".py",
   "mimetype": "text/x-python",
   "name": "python",
   "nbconvert_exporter": "python",
   "pygments_lexer": "ipython3",
   "version": "3.12.7"
  }
 },
 "nbformat": 4,
 "nbformat_minor": 5
}
