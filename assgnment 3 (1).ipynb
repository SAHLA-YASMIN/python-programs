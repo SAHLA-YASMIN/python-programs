{
 "cells": [
  {
   "cell_type": "code",
   "execution_count": 1,
   "id": "2ace82bd-0f76-4082-9b64-d3854041b447",
   "metadata": {},
   "outputs": [],
   "source": [
    "# Exercise 1: Function with optional arguments\n",
    "def calculate(a, b=10, c=None):\n",
    "    if c is None:\n",
    "        print(a + b)\n",
    "    else:\n",
    "        print(a * b * c)"
   ]
  },
  {
   "cell_type": "code",
   "execution_count": 2,
   "id": "10ea3ab4-c82d-4985-ad08-08cc36e30334",
   "metadata": {},
   "outputs": [
    {
     "name": "stdout",
     "output_type": "stream",
     "text": [
      "15\n",
      "12\n",
      "70\n"
     ]
    }
   ],
   "source": [
    "\n",
    "calculate(5)       # 5 + 10 = 15\n",
    "calculate(5, 7)    # 5 + 7 = 12\n",
    "calculate(5, 7, 2) # 5 * 7 * 2 = 70\n"
   ]
  },
  {
   "cell_type": "code",
   "execution_count": 3,
   "id": "64604a2a-aa59-419c-923b-19d7000f2143",
   "metadata": {},
   "outputs": [
    {
     "name": "stdout",
     "output_type": "stream",
     "text": [
      "['apple', 'banana', 'elephant']\n"
     ]
    }
   ],
   "source": [
    "# Exercise 2: Filter strings with length >= 5\n",
    "def filter_long_strings(strings):\n",
    "    return list(filter(lambda s: len(s) >= 5, strings))\n",
    "\n",
    "print(filter_long_strings([\"apple\", \"bat\", \"banana\", \"dog\", \"elephant\"]))"
   ]
  },
  {
   "cell_type": "code",
   "execution_count": 4,
   "id": "aeaeb112-31f3-4260-b8f6-86f63fc3829a",
   "metadata": {},
   "outputs": [
    {
     "name": "stdout",
     "output_type": "stream",
     "text": [
      "17\n"
     ]
    }
   ],
   "source": [
    "# Exercise 3: Evaluate a mathematical expression\n",
    "expression = \"3 * 5 + 2\"\n",
    "result = eval(expression)\n",
    "print(result)  # Output: 17"
   ]
  },
  {
   "cell_type": "code",
   "execution_count": 5,
   "id": "115d556b-4fdf-42ec-8993-2ab66fba8501",
   "metadata": {},
   "outputs": [
    {
     "name": "stdout",
     "output_type": "stream",
     "text": [
      "[2, 3, 5, 7, 11]\n"
     ]
    }
   ],
   "source": [
    "# Exercise 4: Filter prime numbers using filter()\n",
    "def is_prime(n):\n",
    "    if n < 2:\n",
    "        return False\n",
    "    for i in range(2, int(n ** 0.5) + 1):\n",
    "        if n % i == 0:\n",
    "            return False\n",
    "    return True\n",
    "\n",
    "numbers = [2, 3, 4, 5, 6, 7, 8, 9, 10, 11]\n",
    "prime_numbers = list(filter(is_prime, numbers))\n",
    "print(prime_numbers)"
   ]
  },
  {
   "cell_type": "code",
   "execution_count": 6,
   "id": "8313d344-91db-45e9-b2c7-613751cbd5c4",
   "metadata": {},
   "outputs": [
    {
     "name": "stdout",
     "output_type": "stream",
     "text": [
      "['HELLO', 'WORLD', 'PYTHON', 'PROGRAMMING']\n"
     ]
    }
   ],
   "source": [
    "# Exercise 5: Convert list of strings to uppercase using map()\n",
    "strings = [\"hello\", \"world\", \"python\", \"programming\"]\n",
    "uppercase_strings = list(map(str.upper, strings))\n",
    "print(uppercase_strings)"
   ]
  },
  {
   "cell_type": "code",
   "execution_count": null,
   "id": "88a3f817-ffea-40f0-b772-f304ea506bc3",
   "metadata": {},
   "outputs": [],
   "source": []
  }
 ],
 "metadata": {
  "kernelspec": {
   "display_name": "Python 3 (ipykernel)",
   "language": "python",
   "name": "python3"
  },
  "language_info": {
   "codemirror_mode": {
    "name": "ipython",
    "version": 3
   },
   "file_extension": ".py",
   "mimetype": "text/x-python",
   "name": "python",
   "nbconvert_exporter": "python",
   "pygments_lexer": "ipython3",
   "version": "3.12.7"
  }
 },
 "nbformat": 4,
 "nbformat_minor": 5
}
